{
 "cells": [
  {
   "cell_type": "code",
   "execution_count": 1,
   "id": "48c88afd-907d-452d-9c58-e436b263bbbe",
   "metadata": {},
   "outputs": [],
   "source": [
    "import pandas as pd\n",
    "\n",
    "# Abrimos el documento que hemos generado al separar por coding y non coding\n",
    "with open(\"hnoncoding.txt\", 'r') as f:\n",
    "    \n",
    "    #Creamos el dataframe necesario\n",
    "    columns=[\"ID\"]\n",
    "    tableid2=pd.DataFrame(columns=columns)\n",
    "    \n",
    "    #Creamos una lista en la que guardamos cada linea del documento\n",
    "    file=f.readlines()\n",
    "    \n",
    "    #lista vacia para ir guardando los identificadores de cada transcrito\n",
    "    ID=[]\n",
    "    \n",
    "    #Iteramos sobre la lista, el identificador esta separado del resto de información por tabuladores, de esta forma podemos guardar\n",
    "    #quedarnos solo con el identificador\n",
    "    for i in file:\n",
    "        fin=i.find(\"\\t\")\n",
    "        ID.append(i[0:fin])"
   ]
  },
  {
   "cell_type": "code",
   "execution_count": 2,
   "id": "f258bef8-4dc7-4550-b711-741674459679",
   "metadata": {},
   "outputs": [],
   "source": [
    "# Guardamos en el dataframe los ID\n",
    "tableid2[\"ID\"]=ID"
   ]
  },
  {
   "cell_type": "code",
   "execution_count": 3,
   "id": "0cceba9b-6c51-4664-8761-07d640124f8d",
   "metadata": {},
   "outputs": [],
   "source": [
    "#Abrimos el fasta con todos los transcritos generados en el assembly, el objetivo es guardar en cada entrada del diccionario\n",
    "# el identificador y la secuencia correspondiente.\n",
    "with open(\"hard_filtered_transcripts.fasta\", 'r') as f:\n",
    "    dic={}\n",
    "    file=f.readlines()\n",
    "    count=0\n",
    "    \n",
    "    #al ser un fasta el identificador viene siempre precedido por \">\"\n",
    "    for i in file:\n",
    "        if i[0]==\">\":\n",
    "            fin=i.find(\"\\n\")\n",
    "            name=i[0:fin]\n",
    "            dic[name]=[]\n",
    "        else:\n",
    "            dic[name].append(i.replace('\\n',''))"
   ]
  },
  {
   "cell_type": "code",
   "execution_count": 4,
   "id": "29fcefd3-2917-474d-bdf6-d8d2b7c5979a",
   "metadata": {},
   "outputs": [],
   "source": [
    "#Hemos guardado en el diccionario las secuencias en forma de lista, de esta forma las juntamos todas en una unica string\n",
    "for i in dic:\n",
    "    dic[i]=\"\".join(dic[i])"
   ]
  },
  {
   "cell_type": "code",
   "execution_count": 5,
   "id": "2b88567b-cd90-4135-b252-cc53bbe06a8e",
   "metadata": {},
   "outputs": [],
   "source": [
    "#Ahora tenemos que guardar en una lista los transcritos que sean noncoding, al iterar sobre los identificadores del dataframe\n",
    "#que pertenecen a secuencias noncoding, podemos buscar dicho identificador en el diccionario y guardar esa secuencai en una lista\n",
    "#que posteriormente guardaremos en el dataframe\n",
    "noncoding=[]\n",
    "for i in tableid2[\"ID\"]:\n",
    "    name=\">\"+i\n",
    "    noncoding.append(dic[name])"
   ]
  },
  {
   "cell_type": "code",
   "execution_count": 6,
   "id": "ac1af3f4-97ea-4aa9-9a46-7308097db958",
   "metadata": {},
   "outputs": [],
   "source": [
    "tableid2[\"Sequence\"]=noncoding"
   ]
  },
  {
   "cell_type": "code",
   "execution_count": 7,
   "id": "762122f6-f469-4fb4-8cea-36a51dbc2cea",
   "metadata": {},
   "outputs": [
    {
     "data": {
      "text/html": [
       "<div>\n",
       "<style scoped>\n",
       "    .dataframe tbody tr th:only-of-type {\n",
       "        vertical-align: middle;\n",
       "    }\n",
       "\n",
       "    .dataframe tbody tr th {\n",
       "        vertical-align: top;\n",
       "    }\n",
       "\n",
       "    .dataframe thead th {\n",
       "        text-align: right;\n",
       "    }\n",
       "</style>\n",
       "<table border=\"1\" class=\"dataframe\">\n",
       "  <thead>\n",
       "    <tr style=\"text-align: right;\">\n",
       "      <th></th>\n",
       "      <th>ID</th>\n",
       "      <th>Sequence</th>\n",
       "    </tr>\n",
       "  </thead>\n",
       "  <tbody>\n",
       "    <tr>\n",
       "      <th>0</th>\n",
       "      <td>NODE_56_length_16476_cov_24.731756_g17_i1</td>\n",
       "      <td>AGATCTGGGAAGCGGCAGCCACATCGGGGACTGGTGGTCCGCTCCC...</td>\n",
       "    </tr>\n",
       "    <tr>\n",
       "      <th>1</th>\n",
       "      <td>NODE_60_length_16326_cov_476.574971_g20_i0</td>\n",
       "      <td>AGCAGAGAATTATATGTGCTTTTGTAAATAAATTAAAAGATCTTGT...</td>\n",
       "    </tr>\n",
       "    <tr>\n",
       "      <th>2</th>\n",
       "      <td>NODE_66_length_16238_cov_471.756573_g20_i4</td>\n",
       "      <td>AGCAGAGAATTATATGTGCTTTTGTAAATAAATTAAAAGATCTTGT...</td>\n",
       "    </tr>\n",
       "    <tr>\n",
       "      <th>3</th>\n",
       "      <td>NODE_82_length_14978_cov_171.135793_g32_i0</td>\n",
       "      <td>CGACCACCGAAAAGAATGTTAGTGTAGAAGCAAAGATAGTAGACAG...</td>\n",
       "    </tr>\n",
       "    <tr>\n",
       "      <th>4</th>\n",
       "      <td>NODE_87_length_14644_cov_249.505044_g35_i0</td>\n",
       "      <td>GCCAGTTCTGTAAGGTGACTGTACTACCATATGGTCAAATGATTAA...</td>\n",
       "    </tr>\n",
       "  </tbody>\n",
       "</table>\n",
       "</div>"
      ],
      "text/plain": [
       "                                           ID  \\\n",
       "0   NODE_56_length_16476_cov_24.731756_g17_i1   \n",
       "1  NODE_60_length_16326_cov_476.574971_g20_i0   \n",
       "2  NODE_66_length_16238_cov_471.756573_g20_i4   \n",
       "3  NODE_82_length_14978_cov_171.135793_g32_i0   \n",
       "4  NODE_87_length_14644_cov_249.505044_g35_i0   \n",
       "\n",
       "                                            Sequence  \n",
       "0  AGATCTGGGAAGCGGCAGCCACATCGGGGACTGGTGGTCCGCTCCC...  \n",
       "1  AGCAGAGAATTATATGTGCTTTTGTAAATAAATTAAAAGATCTTGT...  \n",
       "2  AGCAGAGAATTATATGTGCTTTTGTAAATAAATTAAAAGATCTTGT...  \n",
       "3  CGACCACCGAAAAGAATGTTAGTGTAGAAGCAAAGATAGTAGACAG...  \n",
       "4  GCCAGTTCTGTAAGGTGACTGTACTACCATATGGTCAAATGATTAA...  "
      ]
     },
     "execution_count": 7,
     "metadata": {},
     "output_type": "execute_result"
    }
   ],
   "source": [
    "tableid2.head()"
   ]
  },
  {
   "cell_type": "code",
   "execution_count": 8,
   "id": "41312da3-0ddb-4355-80d5-d80352bbc5b0",
   "metadata": {},
   "outputs": [],
   "source": [
    "#De esta forma guardamos en el formato fasta nuestras secuencias noncoding.\n",
    "with open(\"HNonCodingGenes.fasta\", 'w') as f:\n",
    "    for i,j in zip(tableid2[\"Sequence\"],tableid2[\"ID\"]):\n",
    "        name=\">\"+j\n",
    "        f.write(name)\n",
    "        f.write(\"\\n\")\n",
    "        f.write(i)\n",
    "        f.write(\"\\n\")"
   ]
  },
  {
   "cell_type": "code",
   "execution_count": 9,
   "id": "00dc4155-0fdc-4c21-bd8c-0f86387c1dfe",
   "metadata": {},
   "outputs": [
    {
     "data": {
      "text/plain": [
       "0         2\n",
       "1         2\n",
       "2         2\n",
       "3         2\n",
       "4         2\n",
       "         ..\n",
       "616147    2\n",
       "616148    2\n",
       "616149    2\n",
       "616150    2\n",
       "616151    2\n",
       "Length: 616152, dtype: int64"
      ]
     },
     "execution_count": 9,
     "metadata": {},
     "output_type": "execute_result"
    }
   ],
   "source": [
    "#Comprobar que el número de transcritos sea igual que en el paso de CPC2\n",
    "tableid2.count(axis=1)"
   ]
  }
 ],
 "metadata": {
  "kernelspec": {
   "display_name": "Python 3 (ipykernel)",
   "language": "python",
   "name": "python3"
  },
  "language_info": {
   "codemirror_mode": {
    "name": "ipython",
    "version": 3
   },
   "file_extension": ".py",
   "mimetype": "text/x-python",
   "name": "python",
   "nbconvert_exporter": "python",
   "pygments_lexer": "ipython3",
   "version": "3.9.12"
  }
 },
 "nbformat": 4,
 "nbformat_minor": 5
}
