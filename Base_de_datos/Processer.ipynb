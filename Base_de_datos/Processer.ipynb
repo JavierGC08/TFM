{
 "cells": [
  {
   "cell_type": "markdown",
   "id": "5cd44d41-58e6-4faf-98c9-7c5c574112a0",
   "metadata": {},
   "source": [
    "**Script para procesar el output de GNFish para encontrar únicamente los hits y eliminar los no hits**\n",
    "\n",
    "**Javier Gutiérrez Corral**\n",
    "**09/12/2023**"
   ]
  },
  {
   "cell_type": "code",
   "execution_count": 77,
   "id": "165c59ad-a98e-4d50-b986-343e877fec30",
   "metadata": {},
   "outputs": [],
   "source": [
    "#Se importa time para añadir en el output la hora en la que se realizó\n",
    "\n",
    "import time"
   ]
  },
  {
   "cell_type": "code",
   "execution_count": 78,
   "id": "c9b164a0-3276-4216-9387-7e5cc78764f4",
   "metadata": {},
   "outputs": [],
   "source": [
    "#Se abre el archivo con el resultado de GNFish\n",
    "\n",
    "with open(\"output800.txt\", 'r') as f:\n",
    "        \n",
    "        '''\n",
    "        mediante el uso de flags y contar las lineas, se pueden ir guardando en la lista los hits\n",
    "        y no quedarse con los no hits.\n",
    "        '''\n",
    "        doc=f.readlines()\n",
    "        flag=False\n",
    "        \n",
    "        #Se crean dos listas vacias, una que nos sirve de forma temporal y otra que es la definitiva (con la hora)\n",
    "        L=[]\n",
    "        time=time.strftime(\"%H:%M:%S\")+ \"\\n\"\n",
    "        Ld=[time]\n",
    "        count=0\n",
    "        \n",
    "        for i in doc:\n",
    "            \n",
    "            #Encuentra un hit\n",
    "            if i[0:14]==\"Query= cluster\":\n",
    "                flag=True\n",
    "                count=0\n",
    "                \n",
    "            #Encuentra un no hit \n",
    "            if i[0:25] == \"***** No hits found *****\" :\n",
    "                flag= False\n",
    "                count=0\n",
    "                L=[]\n",
    "            if flag == True :\n",
    "                L.append(i)\n",
    "                count= count + 1 \n",
    "                if count > 6 :\n",
    "                    for j in L:\n",
    "                        Ld.append(j)\n",
    "                    L=[]\n",
    "           \n",
    "        f.close()"
   ]
  },
  {
   "cell_type": "code",
   "execution_count": 79,
   "id": "b513590b-59c2-4c72-a9b1-ac059ae8352b",
   "metadata": {},
   "outputs": [],
   "source": [
    "#Se guarda el resultado en un archivo separado\n",
    "\n",
    "with open(\"processed800names.txt\", \"w\") as f:\n",
    "    for i in Ld:\n",
    "        f.write(i)\n",
    "    f.close() "
   ]
  },
  {
   "cell_type": "code",
   "execution_count": 81,
   "id": "b9e1e02d-58e0-4158-9441-7ca6da8a576d",
   "metadata": {},
   "outputs": [],
   "source": [
    "# Se filtra para tener en un solo archivo solo los nombres\n",
    "\n",
    "Lnames2=[]\n",
    "for i in L:\n",
    "    if i[0] == \">\":\n",
    "        Lnames2.append(i)\n"
   ]
  },
  {
   "cell_type": "code",
   "execution_count": 82,
   "id": "70cc9818-1de9-4e28-b7d0-12f904378842",
   "metadata": {},
   "outputs": [],
   "source": [
    "with open(\"processed800genes.txt\", \"w\") as f:\n",
    "    for i in Lnames2:\n",
    "        f.write(i)\n",
    "        f.write(\"\\n\")\n",
    "    f.close() "
   ]
  }
 ],
 "metadata": {
  "kernelspec": {
   "display_name": "Python 3 (ipykernel)",
   "language": "python",
   "name": "python3"
  },
  "language_info": {
   "codemirror_mode": {
    "name": "ipython",
    "version": 3
   },
   "file_extension": ".py",
   "mimetype": "text/x-python",
   "name": "python",
   "nbconvert_exporter": "python",
   "pygments_lexer": "ipython3",
   "version": "3.9.12"
  }
 },
 "nbformat": 4,
 "nbformat_minor": 5
}

