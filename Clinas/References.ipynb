{
 "cells": [
  {
   "cell_type": "markdown",
   "id": "164ae241-7c2a-4420-9f28-abb9c5248c22",
   "metadata": {},
   "source": [
    "**Script para relacionar cada una de los clusters con los que se trabajó en el apartado del transcriptoma con \n",
    "los SNPs, necesarios para el análisis de clinas**"
   ]
  },
  {
   "cell_type": "code",
   "execution_count": 96,
   "id": "1428e1fd-dfc1-421f-9e36-670ac789f230",
   "metadata": {},
   "outputs": [],
   "source": [
    "#Archivo que tiene la relación entre el cluster y la región del transcriptoma que se amplificó\n",
    "\n",
    "with open (\"grasshopperRef.positions\", \"r\") as f:\n",
    "    file=f.readlines()\n",
    "    ref={}\n",
    "    for i in file:\n",
    "        #El transcriptoma durante el ensamblado se organizó de tal forma que las secuencias de interés estaban\n",
    "        # dentro del \"cromosoma 1\", por ello cuando aparece el cromosoma dos se para de añadir\n",
    "        if \"chr2\" in i:\n",
    "            break\n",
    "        pos=i.find(\":\")+1\n",
    "        end=i.find(\"\\t\")\n",
    "        ID=i[pos:end]\n",
    "        ref[ID]=[i[(end+1):-1]]\n",
    "        "
   ]
  },
  {
   "cell_type": "code",
   "execution_count": 97,
   "id": "01490422-0aa6-4f26-a55d-13afbca0d5c0",
   "metadata": {},
   "outputs": [],
   "source": [
    "#Lista de todos los SNPs que estan dentro de las regiones que se amplificaron\n",
    "L=[]\n",
    "with open (\"snp_names\",\"r\") as f2:\n",
    "    file2=f2.readlines()\n",
    "    for i in file2:\n",
    "        L.append(i)"
   ]
  },
  {
   "cell_type": "code",
   "execution_count": 98,
   "id": "ad36d481-1c78-4212-bc96-5334dfb6009f",
   "metadata": {},
   "outputs": [],
   "source": [
    "# No todas las regiones del cromosoma amplificadas, tienen un SNP, por ello hay que comprobar para cada region que SNP tiene\n",
    "with open (\"snp_names\",\"r\") as f2:\n",
    "    file2=f2.readlines()\n",
    "    count=0\n",
    "    for i in ref.keys():\n",
    "        start=[]\n",
    "        start=str(ref[i])\n",
    "        pos=start.find(\":\")\n",
    "        pos2=start.find(\"-\")\n",
    "        pri=int(start[pos+1:pos2])\n",
    "        sec=int(start[pos2+1:-2])\n",
    "        number=L[count][:(L[count].find(\"\\t\"))]\n",
    "        if int(number) in range(pri,sec):\n",
    "            ref[i].append(number)\n",
    "            count=count+1\n",
    "            if count == (len(L)+1):\n",
    "                break"
   ]
  },
  {
   "cell_type": "code",
   "execution_count": 99,
   "id": "7c6c06a1-157b-4028-ac39-f616339d2c5f",
   "metadata": {},
   "outputs": [
    {
     "name": "stdout",
     "output_type": "stream",
     "text": [
      "['chr1:47434512-47441576', '47437427']\n"
     ]
    }
   ],
   "source": [
    "#Comprobación de que identifica un SNP dentro de una región\n",
    "if 47437427 in range(47434512,47441576):\n",
    "    print(ref[\"cluster_21233\"])"
   ]
  },
  {
   "cell_type": "code",
   "execution_count": 100,
   "id": "7d7978ef-5883-43e0-a1cf-3c8be3ae2a2b",
   "metadata": {},
   "outputs": [],
   "source": [
    "#Archivo para escribir el resultado\n",
    "with open (\"RelationSNP-cluster\",\"w\") as f3:\n",
    "    for i in ref.keys():\n",
    "        f3.write(i)\n",
    "        f3.write(\" \")\n",
    "        f3.write(ref[i][0])\n",
    "        f3.write(\" \")\n",
    "        try:\n",
    "            f3.write(ref[i][1])\n",
    "            f3.write(\" \")\n",
    "        except IndexError:\n",
    "            f3.write(\"Missing snp\")\n",
    "            f3.write(\" \")\n",
    "        f3.write(\"\\n\")"
   ]
  }
 ],
 "metadata": {
  "kernelspec": {
   "display_name": "Python 3 (ipykernel)",
   "language": "python",
   "name": "python3"
  },
  "language_info": {
   "codemirror_mode": {
    "name": "ipython",
    "version": 3
   },
   "file_extension": ".py",
   "mimetype": "text/x-python",
   "name": "python",
   "nbconvert_exporter": "python",
   "pygments_lexer": "ipython3",
   "version": "3.9.12"
  }
 },
 "nbformat": 4,
 "nbformat_minor": 5
}
